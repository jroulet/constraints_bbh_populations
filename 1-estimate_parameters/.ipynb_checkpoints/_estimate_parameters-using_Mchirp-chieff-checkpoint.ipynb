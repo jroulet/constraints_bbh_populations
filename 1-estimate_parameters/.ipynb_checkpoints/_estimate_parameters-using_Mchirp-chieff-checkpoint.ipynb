{
 "cells": [
  {
   "cell_type": "markdown",
   "metadata": {},
   "source": [
    "# Estimate signal parameters\n",
    "\n",
    "...by computing the likelihood on a grid.\n",
    "\n",
    "Notation:\n",
    "* Capital letters refer to Fourier components, e.g.: `h` = $h(t)$ and `H` = $\\tilde h(f)$.\n",
    "* $s(t) = h(t) + n(t)$, (strain = template + noise)"
   ]
  },
  {
   "cell_type": "code",
   "execution_count": 1,
   "metadata": {
    "collapsed": true
   },
   "outputs": [],
   "source": [
    "%config InlineBackend.figure_format = 'retina'\n",
    "import numpy as np\n",
    "import pandas as pd\n",
    "import matplotlib.pyplot as plt\n",
    "import matplotlib.gridspec as gridspec\n",
    "import scipy.ndimage as ndimage\n",
    "from scipy.interpolate import UnivariateSpline, griddata\n",
    "from scipy.optimize import brentq\n",
    "from multiprocessing import Pool, cpu_count"
   ]
  },
  {
   "cell_type": "code",
   "execution_count": 2,
   "metadata": {
    "collapsed": true
   },
   "outputs": [],
   "source": [
    "events = ['GW150914',\n",
    "          #'GW151226',\n",
    "          #'LVT151012',\n",
    "          'GW170104',\n",
    "          #'GW170608',\n",
    "          'GW170814',\n",
    "         ]\n",
    "\n",
    "approximants = [#'IMRPhenomD',\n",
    "                'SEOBNRv4_ROM'\n",
    "               ]\n",
    "coherences = ['coherent', \n",
    "              #'incoherent',\n",
    "             ]\n",
    "PSDs = ['ASD_average']"
   ]
  },
  {
   "cell_type": "code",
   "execution_count": 3,
   "metadata": {
    "collapsed": true
   },
   "outputs": [],
   "source": [
    "coherences_approximants = [[coherence, approximant]\n",
    "                           for coherence in coherences \n",
    "                           for approximant in approximants]\n",
    "PSDs_approximants = [[psd, approximant]\n",
    "                     for psd in PSDs\n",
    "                     for approximant in approximants]"
   ]
  },
  {
   "cell_type": "markdown",
   "metadata": {},
   "source": [
    "## Load\n",
    "* template parameters and SNR\n",
    "* parameter values reported by LIGO\n",
    "* sensitive volume $V(\\mathbf{p})$ on a full $\\mathbf{p}$-grid to interpolate over each event's grid (might want to report it by `compute_likelihood.py` at some point)"
   ]
  },
  {
   "cell_type": "code",
   "execution_count": 4,
   "metadata": {
    "collapsed": true
   },
   "outputs": [],
   "source": [
    "parameters, ligo_parameters, original_num, original_nums, grid_params = {}, {}, {}, {}, {}\n",
    "for event in events:\n",
    "    parameters[event] = pd.read_csv(event + '/parameter_grid', sep='\\s+')\n",
    "\n",
    "    ligo_parameters[event] = pd.read_csv('{0}/{0}_LIGO_parameters'.format(event), sep='\\s+', comment='#')\n",
    "\n",
    "    with open(event + '/grid_metadata') as  grid_metadata:\n",
    "        grid_params[event] = grid_metadata.readline().strip().split()\n",
    "        original_num[event] = dict(zip(grid_params[event], \n",
    "                                       [int(x) for x in grid_metadata.readline().strip().split()]))\n",
    "    original_nums[event] = np.array(list(original_num[event].values()))\n",
    "assert all(grid_params[e] == grid_params[events[0]] for e in events)\n",
    "grid_params = grid_params[events[0]]  # Have a single list valid for all events"
   ]
  },
  {
   "cell_type": "code",
   "execution_count": 5,
   "metadata": {
    "collapsed": true
   },
   "outputs": [],
   "source": [
    "# Load SNR_1Mpc on full p-grid\n",
    "full_p_grid = pd.read_csv('../2-estimate_horizon/all_par_space/parameter_grid', sep='\\s+')\n",
    "full_p_grid_metadata = pd.read_csv('../2-estimate_horizon/all_par_space/grid_metadata', sep='\\s+')\n",
    "p_grid_1d = {par: np.sort(list(set(full_p_grid[par].values))) for par in grid_params}  # Of the full p-grid\n",
    "\n",
    "assert all(full_p_grid_metadata.columns == grid_params)"
   ]
  },
  {
   "cell_type": "markdown",
   "metadata": {},
   "source": [
    "## Interpolate \n",
    "...the likelihood on a grid on the space of physical parameters $(\\mathcal{M}, q, \\chi_{\\rm eff}, \\ldots)$."
   ]
  },
  {
   "cell_type": "raw",
   "metadata": {
    "collapsed": true
   },
   "source": [
    "# Define the 1d grids, interpolation grid and 2d grids\n",
    "zoom = 2  # Refine grid by this factor with interpolation (make it integer)\n",
    "num, grid_2d_params = {}, {}\n",
    "grid, grid_1d, original_grid_1d = {e:{} for e in events}, {e:{} for e in events}, {e:{} for e in events}\n",
    "grid_2d = {e:{} for e in events}\n",
    "grid_2d_params = [(x_par, y_par) for i, x_par in enumerate(grid_params) for y_par in grid_params[i+1:]]\n",
    "for event in events:\n",
    "    num[event] = dict(zip(grid_params, original_nums[event] * zoom)) # New grid size\n",
    "    for par in grid_params:\n",
    "        min_max = [m(parameters[event][par]) for m in [min, max]]\n",
    "        grid_1d[event][par] = np.linspace(*min_max, num[event][par])\n",
    "        original_grid_1d[event][par] = np.linspace(*min_max, original_num[event][par])\n",
    "    grid[event] = dict(zip(grid_params, np.meshgrid(*[grid_1d[event][par] for par in grid_params],\n",
    "                                                    indexing='ij')))\n",
    "    for xy_pars in grid_2d_params:\n",
    "        grid_2d[event][xy_pars] = dict(zip(xy_pars, np.meshgrid(*[grid_1d[event][par] for par in xy_pars],\n",
    "                                                                indexing='ij')))"
   ]
  },
  {
   "cell_type": "code",
   "execution_count": 6,
   "metadata": {
    "collapsed": true
   },
   "outputs": [],
   "source": [
    "original_grid_1d = {e:{} for e in events}\n",
    "for event in events:\n",
    "    for par in grid_params:\n",
    "        min_max = [m(parameters[event][par]) for m in [min, max]]\n",
    "        original_grid_1d[event][par] = np.linspace(*min_max, original_num[event][par])"
   ]
  },
  {
   "cell_type": "code",
   "execution_count": 7,
   "metadata": {
    "collapsed": true
   },
   "outputs": [],
   "source": [
    "original_grid = {e:{} for e in events}\n",
    "for event in events:\n",
    "    for key in parameters[event]:\n",
    "        original_grid[event][key] = np.reshape(parameters[event][key].values, (original_nums[event]))\n",
    "    # Consistency check:\n",
    "    assert(np.allclose([original_grid[event][par] for par in grid_params], \n",
    "                       np.meshgrid(*[original_grid_1d[event][par] for par in grid_params], indexing='ij'),\n",
    "                       atol=1e-2)), 'There was some problem reconstructing the parameter_grid'"
   ]
  },
  {
   "cell_type": "raw",
   "metadata": {
    "collapsed": true
   },
   "source": [
    "# Interpolate likelihood:\n",
    "for event in events:\n",
    "    for CA in coherences_approximants:\n",
    "        grid[event]['likelihood', (*CA)] = ndimage.zoom(np.exp(original_grid[event]['logL_{}_{}'.format(*CA)]),\n",
    "                                                        zoom, order=1)"
   ]
  },
  {
   "cell_type": "raw",
   "metadata": {
    "collapsed": true
   },
   "source": [
    "# Interpolate sensitive volume over each event's grid\n",
    "min_val, max_val = ({par: f(full_p_grid[par]) for par in grid_params} for f in (min, max))\n",
    "for PA in PSDs_approximants:\n",
    "    V = full_p_grid['SNR_1Mpc_' + '_'.join(PA)].values.reshape(full_p_grid_metadata.values[0])**3\n",
    "    for event in events:\n",
    "        grid[event]['V', (*PA)] = ndimage.map_coordinates(\n",
    "            V, [(grid[event][par] - min_val[par]) * (\n",
    "                (full_p_grid_metadata[par][0]-1) / (max_val[par]-min_val[par])) for par in grid_params])\n",
    "del full_p_grid"
   ]
  },
  {
   "cell_type": "markdown",
   "metadata": {},
   "source": [
    "## Make a grid using $\\eta$ instead of $q$"
   ]
  },
  {
   "cell_type": "code",
   "execution_count": 8,
   "metadata": {
    "collapsed": true
   },
   "outputs": [],
   "source": [
    "# Define the 1d grids, interpolation grid and 2d grids\n",
    "original_grid_params = grid_params\n",
    "eta_grid_params = ['M_chirp', 'eta', 'chi_r']\n",
    "grid_2d_params = {}\n",
    "grid, grid_1d= {e:{} for e in events}, {e:{} for e in events}\n",
    "grid_2d = {e:{} for e in events}\n",
    "grid_2d_params = [(x_par, y_par) for i, x_par in enumerate(eta_grid_params) for y_par in eta_grid_params[i+1:]]\n",
    "for event in events:\n",
    "    for par in ['M_chirp']:\n",
    "        min_max = [m(parameters[event][par]) for m in [min, max]]\n",
    "        grid_1d[event][par] = np.linspace(*min_max, 64)\n",
    "    grid_1d[event]['eta'] = np.linspace(0.01,.25, 64)\n",
    "    grid_1d[event]['chi_r'] = np.linspace(-1, 1, 64)\n",
    "    \n",
    "    grid[event] = dict(zip(eta_grid_params, np.meshgrid(*[grid_1d[event][par] for par in eta_grid_params], \n",
    "                                                            indexing='ij')))\n",
    "    for xy_pars in grid_2d_params:\n",
    "        grid_2d[event][xy_pars] = dict(zip(xy_pars, np.meshgrid(*[grid_1d[event][par] for par in xy_pars],\n",
    "                                                                    indexing='ij')))"
   ]
  },
  {
   "cell_type": "code",
   "execution_count": 154,
   "metadata": {
    "collapsed": true
   },
   "outputs": [],
   "source": [
    "def q_of_eta(eta):\n",
    "    return (1 - 2*eta - np.sqrt(1 - 4*eta)) / (2*eta)\n",
    "def chieff_of_chir_eta(chir, eta):\n",
    "    return chir - 3.4*(eta-.25)"
   ]
  },
  {
   "cell_type": "code",
   "execution_count": 155,
   "metadata": {
    "collapsed": true
   },
   "outputs": [],
   "source": [
    "# Interpolate likelihood:\n",
    "grid_params = original_grid_params\n",
    "min_val, max_val= {}, {}\n",
    "for event in events:\n",
    "    min_val[event] = {par: min(original_grid_1d[event][par]) for par in grid_params}\n",
    "    max_val[event] = {par: max(original_grid_1d[event][par]) for par in grid_params}\n",
    "for event in events:\n",
    "    for CA in coherences_approximants:\n",
    "        grid[event]['likelihood', (*CA)] = ndimage.map_coordinates(\n",
    "            np.exp(original_grid[event]['logL_{}_{}'.format(*CA)]),\n",
    "            [(grid[event][par] - min_val[event][par]) * (\n",
    "                (original_num[event][par]-1) / (max_val[event][par]-min_val[event][par])) if par == 'M_chirp'\n",
    "             else (chieff_of_chir_eta(grid[event]['chi_r'], grid[event]['eta']) - min_val[event]['q']) * (\n",
    "                (original_num[event]['q']-1) / (max_val[event]['q']-min_val[event]['q'])) if par == 'chi_r'\n",
    "             else (q_of_eta(grid[event]['eta']) - min_val[event]['q']) * (\n",
    "                (original_num[event]['q']-1) / (max_val[event]['q']-min_val[event]['q']))\n",
    "             \n",
    "             for par in eta_grid_params])"
   ]
  },
  {
   "cell_type": "code",
   "execution_count": 156,
   "metadata": {
    "collapsed": true
   },
   "outputs": [],
   "source": [
    "grid_params = eta_grid_params"
   ]
  },
  {
   "cell_type": "markdown",
   "metadata": {},
   "source": [
    "#### Interpolation for $q, \\chi_{\\rm eff}$\n",
    "... is degenerate for low-mass BBHs and benefits from a change of variables to $\\eta, \\chi_{\\rm PN}$ before the interpolation.\n",
    "\n",
    "This interpolation is on an irregular grid and thus much slower, uses `griddata`. "
   ]
  },
  {
   "cell_type": "raw",
   "metadata": {
    "collapsed": true
   },
   "source": [
    "def eta_of_q(q):\n",
    "    return q / (1+q)**2\n",
    "def chiPN_of_q_chieff(q, chi_eff):\n",
    "    return chi_eff * (1 - 76/113 * eta_of_q(q))\n",
    "def eta_chiPN_of_q_chieff(q, chi_eff):\n",
    "    return eta_of_q(q), chiPN_of_q_chieff(q, chi_eff)"
   ]
  },
  {
   "cell_type": "raw",
   "metadata": {
    "scrolled": false
   },
   "source": [
    "low_mass = {'GW151226', 'GW170608'}\n",
    "assert grid_params == ['M_chirp', 'q', 'chi_eff']  # or change this implementation\n",
    "\n",
    "for event in [e for e in events if e in low_mass]:\n",
    "    for CA in coherences_approximants:\n",
    "        original_grid[event]['eta'] = eta_of_q(original_grid[event]['q'])\n",
    "        original_grid[event]['chi_PN'] = chiPN_of_q_chieff(original_grid[event]['q'], \n",
    "                                                           original_grid[event]['chi_eff'])\n",
    "        grid[event]['eta'] = eta_of_q(grid[event]['q'])\n",
    "        grid[event]['chi_PN'] = chiPN_of_q_chieff(grid[event]['q'], grid[event]['chi_eff'])\n",
    "        \n",
    "        temp_grid = dict(zip(grid_params, np.meshgrid(original_grid_1d[event]['M_chirp'], \n",
    "                                                       grid_1d[event]['q'], grid_1d[event]['chi_eff'],\n",
    "                                                      indexing='ij')))  # Refined in q, chi_eff, not in M_chirp\n",
    "        temp_grid['eta'], temp_grid['chi_PN'] = eta_chiPN_of_q_chieff(temp_grid['q'], temp_grid['chi_eff'])\n",
    "        \n",
    "        temp_grid['likelihood'] = np.zeros_like(temp_grid['M_chirp'])\n",
    "        \n",
    "        N_patches = 8  # Use that the transformation preserves patches \n",
    "        lx = len(original_grid_1d[event]['q']) // N_patches  # original grid\n",
    "        ly = len(original_grid_1d[event]['chi_eff']) // N_patches\n",
    "        Lx = len(grid_1d[event]['q']) // N_patches  # new grid\n",
    "        Ly = len(grid_1d[event]['chi_eff']) // N_patches\n",
    "        for i, logL_grid in enumerate(original_grid[event]['logL_{}_{}'.format(*CA)]):\n",
    "            for i_patch in range(N_patches):\n",
    "                for j_patch in range(N_patches):\n",
    "                    x_slice = slice(i_patch*lx, (i_patch+1)*lx + 1)  # original grid\n",
    "                    y_slice = slice(j_patch*ly, (j_patch+1)*ly + 1)\n",
    "                    X_slice = slice(i_patch*Lx, (i_patch+1)*Lx + 1)  # new grid\n",
    "                    Y_slice = slice(j_patch*Ly, (j_patch+1)*Ly + 1)\n",
    "                    \n",
    "                    temp_grid['likelihood'][i][X_slice, Y_slice] = griddata(\n",
    "                        (original_grid[event]['eta'][0][x_slice, y_slice].flatten(), \n",
    "                         original_grid[event]['chi_PN'][0][x_slice, y_slice].flatten()),\n",
    "                        np.exp(logL_grid)[x_slice, y_slice].flatten(),\n",
    "                        (grid[event]['eta'][0][X_slice, Y_slice], grid[event]['chi_PN'][0][X_slice, Y_slice]), \n",
    "                        method='linear', rescale=True)\n",
    "        grid[event]['likelihood', (*CA)] = ndimage.zoom(temp_grid['likelihood'],\n",
    "                                                        (zoom, 1, 1), order=1)\n",
    "        assert grid[event]['likelihood', (*CA)].shape == grid[event]['likelihood', (*CA)].shape, (\n",
    "            grid[event]['likelihood', (*CA)].shape, grid[event]['likelihood', (*CA)].shape)"
   ]
  },
  {
   "cell_type": "code",
   "execution_count": null,
   "metadata": {
    "collapsed": true
   },
   "outputs": [],
   "source": []
  },
  {
   "cell_type": "markdown",
   "metadata": {},
   "source": [
    "## Marginalized posteriors\n",
    "\n",
    "$P = P_{\\rm prior}\\mathcal{L}$. To connect priors in $(m_1, m_2)$ to $(\\mathcal{M}, q)$ use:\n",
    "\n",
    "$$P_{\\rm prior}(\\mathcal{M}, q) = P_{\\rm prior}(m_1, m_2) \\frac{\\left(1 + \\frac{1}{q}\\right)^{1/5}  (1 + q)^{1/5}}{q} \\mathcal{M}$$\n",
    "\n",
    "The LIGO spin prior is uniform in the individual spin magnitudes $a_{1,2}$ and tilts $\\theta_{1,2}$. This yields the following prior for $\\chi_{\\rm eff}$:\n",
    "$$\n",
    "\\begin{aligned}\n",
    "    P_{\\rm prior}(\\chi_{\\rm eff} \\mid q)\n",
    "         &= (1+q) \\int_a^b P_\\chi \\left( (1+q) \\chi_{\\rm eff} - q \\chi_2 \\right) \n",
    "             P_\\chi(\\chi_2) {\\rm d}\\chi_2, \\\\\n",
    "    P_\\chi(\\chi) &\\propto \\log \\frac{1 + \\sqrt{1-\\chi^2}}{\\left| \\chi \\right|}  \\\\\n",
    "    a &= \\max \\left(\\frac{(1+q)\\chi_{\\rm eff} - 1}{q}, -1 \\right) \\\\\n",
    "    b &= \\min \\left(\\frac{(1+q)\\chi_{\\rm eff} + 1}{q}, 1 \\right).\n",
    "\\end{aligned}\n",
    "$$\n",
    "In the implementation below we use that it doesn't depend on $\\mathcal M$."
   ]
  },
  {
   "cell_type": "code",
   "execution_count": 157,
   "metadata": {
    "collapsed": true
   },
   "outputs": [],
   "source": [
    "def Heaviside(x):\n",
    "    return x >= 0"
   ]
  },
  {
   "cell_type": "code",
   "execution_count": 158,
   "metadata": {
    "collapsed": true
   },
   "outputs": [],
   "source": [
    "# Define the priors:\n",
    "def P_LIGO_chi(chi):  # P_LIGO(X1) = P_LIGO(X2), individual aligned spins\n",
    "    return np.log((1 + np.sqrt(1-chi**2)) / np.maximum(np.abs(chi), 1e-3))\n",
    "def P_LIGO_chieff_given_q(q, chi_eff):  # P_LIGO(Xeff | q), must be floats\n",
    "    chi2, dchi2 = np.linspace(max((chi_eff - 1) / q + chi_eff, -1), \n",
    "                              min((chi_eff + 1) / q + chi_eff,  1),\n",
    "                              800, endpoint=False, retstep=True)\n",
    "    chi2 += dchi2/2\n",
    "    return (1+q) * (P_LIGO_chi((1+q)*chi_eff-q*chi2) * P_LIGO_chi(chi2)).sum()*dchi2\n",
    "def LIGO_prior(event, M_chirp, q, **kwargs):\n",
    "    assert grid_params == ['M_chirp', 'q', 'chi_eff']  # ... or you'll have to change this implementation\n",
    "    p = Pool(cpu_count())\n",
    "    q_chi_eff = [[q, chi_eff] for q, chi_eff in zip(grid_2d[event]['q', 'chi_eff']['q'].flatten(),\n",
    "                                                    grid_2d[event]['q', 'chi_eff']['chi_eff'].flatten())]\n",
    "    P_chieff_given_q = np.reshape(p.starmap(P_LIGO_chieff_given_q, q_chi_eff),\n",
    "                                  grid_2d[event]['q', 'chi_eff']['chi_eff'].shape) \n",
    "    return M_chirp * (1+1/q)**.2 * (1+q)**.2 / q * P_chieff_given_q[np.newaxis,:,:]\n",
    "LIGO_prior.latex = 'LIGO'\n",
    "LIGO_prior.text = 'LIGO'\n",
    "\n",
    "def uniform_in_m1_m2_chieff(M_chirp, q, **kwargs):\n",
    "    return M_chirp * (1+1/q)**.2 * (1+q)**.2 / q\n",
    "uniform_in_m1_m2_chieff.latex = r'Uniform in $m_1, m_2, \\chi_{{\\rm eff}}$'\n",
    "uniform_in_m1_m2_chieff.text = 'Uniform in m1, m2, Xeff'\n",
    "\n",
    "def uniform_in_m1_m2_chi1_chi2(M_chirp, q, chi_eff, **kwargs):\n",
    "    return M_chirp * (1+1/q)**.2 * (1+q)**.2 / q * (\n",
    "        -((1+q)*(Heaviside(-((1+q)*(-1+chi_eff)))*((1+q)*(-1+chi_eff)-(1+q*(-1+chi_eff)+chi_eff)\n",
    "        *Heaviside(-1+q-(1+q)*chi_eff))+(1-q-(1+q)*chi_eff+(1+q)*(1+chi_eff)\n",
    "        *Heaviside(-((1+q)*(1+chi_eff))))*Heaviside(1-chi_eff-q*(1+chi_eff))))/(4.*q))\n",
    "uniform_in_m1_m2_chi1_chi2.latex = r'Uniform in $m_1, m_2, \\chi_1, \\chi_2$'\n",
    "uniform_in_m1_m2_chi1_chi2.text = 'Uniform in m1, m2, X1, X2'\n",
    "\n",
    "def uniform_in_Mchirp_q_chieff(M_chirp, **kwargs):\n",
    "    return np.ones_like(M_chirp)\n",
    "uniform_in_Mchirp_q_chieff.latex = r'Uniform in $\\mathcal{{M}}, q, \\chi_{{\\rm eff}}$'\n",
    "uniform_in_Mchirp_q_chieff.text = 'Uniform in Mchirp, q, Xeff'\n",
    "\n",
    "def V_times_LIGO_prior(event, M_chirp, q, V, **kwargs):\n",
    "    return V * LIGO_prior(event, M_chirp, q)\n",
    "V_times_LIGO_prior.latex = r'$V \\times$ LIGO'\n",
    "V_times_LIGO_prior.text = 'VxLIGO'\n",
    "\n",
    "def V_times_uniform_in_Mchirp_q_chieff(V, **kwargs):\n",
    "    return V\n",
    "V_times_uniform_in_Mchirp_q_chieff.latex = r'$V(\\mathcal{{M}}, q, \\chi_{{\\rm eff}})$'\n",
    "V_times_uniform_in_Mchirp_q_chieff.text = 'V(Mchirp, q, Xeff)'\n",
    "\n",
    "priors = [#LIGO_prior,\n",
    "          #V_times_LIGO_prior,\n",
    "          uniform_in_Mchirp_q_chieff,\n",
    "          #V_times_uniform_in_Mchirp_q_chieff,\n",
    "          #uniform_in_m1_m2_chieff,\n",
    "          #uniform_in_m1_m2_chi1_chi2,\n",
    "         ]\n",
    "for prior in priors:\n",
    "    prior.name = prior.__name__  # Easier"
   ]
  },
  {
   "cell_type": "code",
   "execution_count": 159,
   "metadata": {
    "collapsed": true
   },
   "outputs": [],
   "source": [
    "priors_coherences_approximants = [[prior.name, coherence, approximant]\n",
    "                                  for prior in priors \n",
    "                                  for coherence in coherences \n",
    "                                  for approximant in approximants]"
   ]
  },
  {
   "cell_type": "code",
   "execution_count": 160,
   "metadata": {
    "collapsed": true,
    "scrolled": true
   },
   "outputs": [],
   "source": [
    "for event in events:\n",
    "    for prior in priors:\n",
    "        # TODO: Put a for loop for PA if we have >1\n",
    "        P = prior(event=event, **{par:grid[event][par] for par in grid_params})\n",
    "        grid[event][prior.name] = P / P.sum()\n",
    "        for CA in coherences_approximants:\n",
    "            P = grid[event][prior.name] * grid[event]['likelihood', ((*CA))]\n",
    "            grid[event]['posterior', prior.name, (*CA)] = P / P.sum()\n",
    "\n",
    "        # Compute 1d marginalized priors and posteriors:\n",
    "        for i, x_par in enumerate(grid_params):\n",
    "            js = tuple(j for j in range(len(grid_params)) if j != i) # Marginalize over these axes\n",
    "            grid_1d[event][prior.name, x_par] = grid[event][prior.name].sum(axis=js)\n",
    "            for CA in coherences_approximants:\n",
    "                grid_1d[event]['posterior', prior.name, (*CA), x_par] \\\n",
    "                    = grid[event]['posterior', prior.name, (*CA)].sum(axis=js)\n",
    "\n",
    "        # Compute 2d marginalized posteriors\n",
    "        for xy_pars in grid_2d_params:\n",
    "            for CA in coherences_approximants:\n",
    "                js = tuple(j for j, z in enumerate(grid_params) if not z in xy_pars) # Marginalize over these axes\n",
    "                grid_2d[event][xy_pars]['posterior', prior.name, (*CA)] \\\n",
    "                    = grid[event]['posterior', prior.name, (*CA)].sum(axis=js)"
   ]
  },
  {
   "cell_type": "markdown",
   "metadata": {},
   "source": [
    "### Find parameter estimates"
   ]
  },
  {
   "cell_type": "code",
   "execution_count": 161,
   "metadata": {
    "collapsed": true
   },
   "outputs": [],
   "source": [
    "median, bounds_estimate, err_estimate = {e:{} for e in events}, {e:{} for e in events}, {e:{} for e in events}\n",
    "for event in events:\n",
    "    for PCA in priors_coherences_approximants:\n",
    "        for par in grid_params:\n",
    "            cumulative_P = UnivariateSpline(grid_1d[event][par], \n",
    "                                            np.cumsum(grid_1d[event]['posterior', (*PCA), par]) - .5,\n",
    "                                            s=0)\n",
    "            median[event][(*PCA), par] = cumulative_P.roots()[0]\n",
    "\n",
    "            P_level = brentq(lambda level, P: P[P > level].sum()-.9, 0, 1, \n",
    "                             args=(grid_1d[event]['posterior', (*PCA), par]))\n",
    "            P_spline = UnivariateSpline(grid_1d[event][par],\n",
    "                                        grid_1d[event]['posterior', (*PCA), par] - P_level,\n",
    "                                        s=0)\n",
    "            roots = P_spline.roots()\n",
    "            bounds_estimate[event][(*PCA), par] = np.array([roots[0], roots[-1]])\n",
    "            if grid_1d[event]['posterior', (*PCA), par][0] > P_level:\n",
    "                bounds_estimate[event][(*PCA), par][0] = grid_1d[event][par][0]\n",
    "            if grid_1d[event]['posterior', (*PCA), par][-1] > P_level:\n",
    "                bounds_estimate[event][(*PCA), par][1] = grid_1d[event][par][-1]\n",
    "            err_estimate[event][(*PCA), par] = abs(median[event][(*PCA), par] - bounds_estimate[event][(*PCA), par])"
   ]
  },
  {
   "cell_type": "markdown",
   "metadata": {},
   "source": [
    "### Find % confidence contours"
   ]
  },
  {
   "cell_type": "code",
   "execution_count": 162,
   "metadata": {
    "collapsed": true
   },
   "outputs": [],
   "source": [
    "fractions = [.5, .9]  # Probability enclosed by contours\n",
    "fractions = sorted(fractions, reverse=True)  # So that the P levels are increasing\n",
    "levels = {e:{} for e in events}\n",
    "for event in events:\n",
    "    for PCA in priors_coherences_approximants:\n",
    "        for xy_pars in grid_2d_params:\n",
    "            levels[event][(*PCA), xy_pars] = [brentq(lambda level, P: P[P > level].sum()-fraction, 0, 1,\n",
    "                                                   args=(grid_2d[event][xy_pars]['posterior', (*PCA)]))\n",
    "                                            for fraction in fractions]"
   ]
  },
  {
   "cell_type": "markdown",
   "metadata": {},
   "source": [
    "## Plot"
   ]
  },
  {
   "cell_type": "code",
   "execution_count": 163,
   "metadata": {
    "collapsed": true
   },
   "outputs": [],
   "source": [
    "latex = {'M_chirp': r'$\\mathcal{{M}}$',\n",
    "         'q': r'$q$',\n",
    "         'chi_eff': r'$\\chi_{{\\rm eff}}$',\n",
    "         'eta': r'$\\eta$',\n",
    "         'chi_r': r'$\\chi_r$'}\n",
    "unit = {'M_chirp': r' (${\\rm M}_\\odot$)',\n",
    "        'q': '', 'chi_eff': '', 'eta': '', 'chi_r': ''}"
   ]
  },
  {
   "cell_type": "code",
   "execution_count": 164,
   "metadata": {
    "collapsed": true
   },
   "outputs": [],
   "source": [
    "def latex_val_err(v, e):  # e == [err_m, err_p]\n",
    "    n_digits = max(0, *[int(np.ceil(-np.log10(e_))) for e_ in e])\n",
    "    r = lambda a, n: round(a, n) if n > 0 else int(round(a))\n",
    "    return '${}_{{-{}}}^{{+{}}}$'.format(r(v, n_digits), *[r(e_, n_digits) for e_ in e])"
   ]
  },
  {
   "cell_type": "markdown",
   "metadata": {},
   "source": [
    "### Maximally spinning secondary\n",
    "The case where the secondary BH is maximally spinning (e.g. due to tidal locking of the progenitor star) and the primary is not spinning defines a curve in the $\\chi_{\\rm eff},q$ plane:\n",
    "$$\\chi_{\\rm eff, locked} = \\frac{q}{1+q} ~\\Longleftrightarrow~ q_{\\rm locked} = \\frac{\\chi_{\\rm eff}}{1-\\chi_{\\rm eff}}$$"
   ]
  },
  {
   "cell_type": "raw",
   "metadata": {
    "collapsed": true
   },
   "source": [
    "def chi_eff_locked(q):\n",
    "    return q / (1 + q)\n",
    "def q_locked(chi_eff):\n",
    "    return chi_eff / (1 - chi_eff +1e-10)  # Prevent /0\n",
    "\n",
    "locked = {e:{} for e in events}\n",
    "for event in events:\n",
    "    chi_eff_min, chi_eff_max = grid_1d[event]['chi_eff'][[0, -1]]\n",
    "    q_min, q_max = grid_1d[event]['eta'][[0, -1]]\n",
    "    if chi_eff_max > chi_eff_locked(q_min) and chi_eff_min < chi_eff_locked(q_max):\n",
    "        q1 = max(q_min, q_locked(chi_eff_min))\n",
    "        q2 = min(q_max, q_locked(chi_eff_max))\n",
    "        locked[event]['eta'] = np.linspace(q1, q2)\n",
    "        locked[event]['chi_eff'] = chi_eff_locked(locked[event]['eta'])"
   ]
  },
  {
   "cell_type": "markdown",
   "metadata": {},
   "source": [
    "### Single-event corner plots\n",
    "#### Single prior"
   ]
  },
  {
   "cell_type": "raw",
   "metadata": {
    "scrolled": true
   },
   "source": [
    "plt.clf();\n",
    "n_cols = n_rows = len(grid_params)\n",
    "for event in events:\n",
    "    for prior in priors:\n",
    "        for CA in coherences_approximants:\n",
    "            coherence, approximant = CA\n",
    "            PCA = [prior.name, (*CA)]\n",
    "            try:  # Has LIGO reported values for this approximant?:\n",
    "                ligo_parameters[event][x_par][approximant]\n",
    "                app = approximant\n",
    "            except KeyError:  # ... or only Overall?:\n",
    "                app = 'Overall'\n",
    "\n",
    "            fig, ax = plt.subplots(n_rows, n_cols, figsize=(2.5 * n_cols, 2.5 * n_rows + .5));\n",
    "            plt.suptitle('{} - {} prior, {}, {}'.format(event, prior.latex, (*CA)), size='x-large')\n",
    "\n",
    "            # Plot 2D posteriors (off-diagonal in the plot grid)\n",
    "            for row, y_par in list(enumerate(grid_params))[1:]:\n",
    "                for col, x_par in list(enumerate(grid_params))[:row]:\n",
    "                    plt.sca(ax[row][col])\n",
    "                    xy_posterior = grid_2d[event][x_par, y_par]['posterior', (*PCA)].T\n",
    "\n",
    "                    plt.imshow(xy_posterior, extent=[grid_1d[event][x_par].min(), grid_1d[event][x_par].max(),\n",
    "                                                     grid_1d[event][y_par].min(), grid_1d[event][y_par].max()],\n",
    "                               cmap='Blues', origin='lower', aspect='auto', alpha=.5)\n",
    "\n",
    "                    contours = plt.contour(grid_1d[event][x_par], grid_1d[event][y_par], xy_posterior,\n",
    "                                           levels=levels[event][(*PCA), (x_par, y_par)], colors='C0')\n",
    "                    #for i in range(len(fractions)):\n",
    "                    #    contours.collections[i].set_label('{:.0f}% c.l.'.format(100*fractions[i]))\n",
    "\n",
    "                    if set([x_par, y_par]) == set(['q', 'chi_eff']):\n",
    "                        try:  # If the locked-secondary curve has support in the 2d plot range\n",
    "                            plt.plot(locked[event][x_par], locked[event][y_par],\n",
    "                                     '-.C2', label=r'$\\chi_1=0, \\chi_2 = 1$')\n",
    "                        except KeyError:\n",
    "                            pass\n",
    "                        ii, jj = row, col  # The row and col of the q-chi_eff plot\n",
    "\n",
    "                    plt.errorbar(ligo_parameters[event][x_par][app],\n",
    "                                 ligo_parameters[event][y_par][app],\n",
    "                                 xerr=[[ligo_parameters[event][x_par][app + '_errm']],\n",
    "                                       [ligo_parameters[event][x_par][app + '_errp']]],\n",
    "                                 yerr=[[ligo_parameters[event][y_par][app + '_errm']],\n",
    "                                       [ligo_parameters[event][y_par][app + '_errp']]],\n",
    "                                 label='LIGO reported', color='k', ecolor='k', ls='None', fmt='.')\n",
    "\n",
    "            # Plot 1D posteriors (diagonal)\n",
    "            for i, par in enumerate(grid_params):\n",
    "                plt.sca(ax[i][i])\n",
    "                ligo_val = ligo_parameters[event][par][app]\n",
    "                ligo_err = [[ligo_parameters[event][par][app + '_errm']],\n",
    "                            [ligo_parameters[event][par][app + '_errp']]]\n",
    "                plt.errorbar(ligo_val,\n",
    "                             np.interp(bounds_estimate[event][(*PCA), par][0],\n",
    "                                       grid_1d[event][par],\n",
    "                                       grid_1d[event]['posterior', (*PCA), par]),\n",
    "                             xerr=ligo_err, ls='None', fmt='.', color='k', ecolor='k', zorder=10)\n",
    "                for val in [median[event][(*PCA), par], *bounds_estimate[event][(*PCA), par]]:\n",
    "                    plt.plot([val]*2, [0, np.interp(val, grid_1d[event][par], \n",
    "                                                    grid_1d[event]['posterior', (*PCA), par])],\n",
    "                              'C0', alpha=.5)\n",
    "                span = np.linspace(*bounds_estimate[event][(*PCA), par])\n",
    "                plt.fill_between(span, 0, np.interp(span, grid_1d[event][par], \n",
    "                                                    grid_1d[event]['posterior', (*PCA), par]), alpha=.1)\n",
    "                plt.title('{}$=${}{}'.format(latex[par], \n",
    "                                             latex_val_err(median[event][(*PCA), par], \n",
    "                                                           err_estimate[event][(*PCA), par]),\n",
    "                                             unit[par].replace('(', '').replace(')','')))\n",
    "                plt.plot(grid_1d[event][par],\n",
    "                         grid_1d[event]['posterior', (*PCA), par], label='Posterior')\n",
    "                plt.plot(grid_1d[event][par], grid_1d[event][prior.name, par], label='Prior')\n",
    "            # Embellish\n",
    "            handles_1d, labels_1d = ax[0][0].get_legend_handles_labels()\n",
    "            handles_2d, labels_2d = ax[ii][jj].get_legend_handles_labels()\n",
    "            fig.legend(handles_1d + handles_2d, labels_1d + labels_2d, \n",
    "                       loc='upper left', bbox_to_anchor=(.4, .91), frameon=False)\n",
    "            for col, x_par in enumerate(grid_params):\n",
    "                ax[n_rows-1][col].set_xlabel(latex[x_par] + unit[x_par], size='large')\n",
    "                plt.setp(ax[n_rows-1][col].get_xticklabels(), rotation=45)\n",
    "                for row in range(n_rows-1):\n",
    "                    ax[row][col].tick_params(labelbottom='off')\n",
    "            for row, y_par in list(enumerate(grid_params))[1:]:\n",
    "                ax[row][0].set_ylabel(latex[y_par] + unit[y_par], size='large')\n",
    "                plt.setp(ax[row][0].get_yticklabels(), rotation=45)\n",
    "                for col in range(1, n_cols):\n",
    "                    ax[row][col].tick_params(labelleft='off')\n",
    "            for row in range(n_rows-1):\n",
    "                for col in range(row+1, n_cols):\n",
    "                    ax[row][col].axis('off')\n",
    "            for col in range(n_cols):\n",
    "                for row in range(1, n_rows):\n",
    "                    ax[0][col].get_shared_x_axes().join(ax[0][col], ax[row][col])\n",
    "                    ax[row][col].autoscale()\n",
    "            for row in range(n_rows):\n",
    "                for col in range(1, row):\n",
    "                    ax[row][0].get_shared_y_axes().join(ax[row][0], ax[row][col])\n",
    "                    ax[row][col].autoscale()\n",
    "            for i in range(len(grid_params)):\n",
    "                ax[i][i].tick_params(axis='y', left='off', labelleft='off')\n",
    "                ax[i][i].set_ylim(ymin=0)\n",
    "            ax[-1][-1].set_xlim(grid_1d[event][grid_params[-1]].min(), grid_1d[event][grid_params[-1]].max())\n",
    "            plt.tight_layout(rect=[0, 0, 1, 0.96]);\n",
    "            plt.subplots_adjust(hspace=0.04, wspace=0.04);\n",
    "\n",
    "            plt.savefig('{0}/figures/{0}_{1}.pdf'.format(event, '_'.join(PCA)), bbox_inches='tight')\n",
    "            plt.show()"
   ]
  },
  {
   "cell_type": "raw",
   "metadata": {},
   "source": [
    "assert False, 'You shall not pass!'"
   ]
  },
  {
   "cell_type": "markdown",
   "metadata": {},
   "source": [
    "#### Prior, likelihood and posterior"
   ]
  },
  {
   "cell_type": "raw",
   "metadata": {
    "collapsed": true
   },
   "source": [
    "plot_priors = [LIGO_prior, uniform_in_Mchirp_q_chieff]\n",
    "plotted_posterior = LIGO_prior.name\n",
    "assert all(pp in priors for pp in plot_priors)\n",
    "kwargs = {('uniform_in_Mchirp_q_chieff', 'prior'): {'ls': 'none', 'label': '_nolegend_', 'c': 'k'},\n",
    "          ('uniform_in_Mchirp_q_chieff', 'posterior'): {'ls': '--', 'label': 'Likelihood', 'c': 'C3'},\n",
    "          ('LIGO_prior', 'prior'): {'ls': ':', 'label': 'LIGO prior', 'c': 'C0'},\n",
    "          ('LIGO_prior', 'posterior'): {'ls': '-', 'label': 'LIGO posterior', 'c': 'C0'}\n",
    "         }\n",
    "assert all(pp in priors for pp in plot_priors)\n",
    "\n",
    "plt.clf();\n",
    "n_cols = n_rows = len(grid_params)\n",
    "for event in events:\n",
    "    for CA in coherences_approximants:\n",
    "        coherence, approximant = CA\n",
    "        try:  # Has LIGO reported values for this approximant?:\n",
    "            ligo_parameters[event][x_par][approximant]\n",
    "            app = approximant\n",
    "        except KeyError:  # ... or only Overall?:\n",
    "            app = 'Overall'\n",
    "        fig, ax = plt.subplots(n_rows, n_cols, figsize=(2 * n_cols, 2 * n_rows + .5));\n",
    "        plt.suptitle('{}'.format(event), size='x-large')\n",
    "        \n",
    "        # Plot 2D posteriors (off-diagonal in the plot grid)\n",
    "        for row, y_par in list(enumerate(grid_params))[1:]:\n",
    "            for col, x_par in list(enumerate(grid_params))[:row]:\n",
    "                plt.sca(ax[row][col])\n",
    "                if set([x_par, y_par]) == set(['q', 'chi_eff']):\n",
    "                    try:  # If the locked-secondary curve has support in the 2d plot range\n",
    "                        plt.plot(locked[event][x_par], locked[event][y_par],\n",
    "                                 '-.C2', label=r'$\\chi_1=0, \\chi_2 = 1$')\n",
    "                    except KeyError:\n",
    "                        pass\n",
    "                    ii, jj = row, col  # The row and col of the q-chi_eff plot\n",
    "                plt.errorbar(ligo_parameters[event][x_par][app],\n",
    "                             ligo_parameters[event][y_par][app],\n",
    "                             xerr=[[ligo_parameters[event][x_par][app + '_errm']],\n",
    "                                   [ligo_parameters[event][x_par][app + '_errp']]],\n",
    "                             yerr=[[ligo_parameters[event][y_par][app + '_errm']],\n",
    "                                   [ligo_parameters[event][y_par][app + '_errp']]],\n",
    "                             label='LIGO reported', color='k', ecolor='k', ls='None', fmt='.', zorder=10)\n",
    "                xy_posterior = grid_2d[event][x_par, y_par]['posterior', plotted_posterior, (*CA)].T\n",
    "                plt.imshow(xy_posterior, extent=[grid_1d[event][x_par].min(), grid_1d[event][x_par].max(),\n",
    "                                                 grid_1d[event][y_par].min(), grid_1d[event][y_par].max()],\n",
    "                           cmap='Blues', origin='lower', aspect='auto', alpha=.5)\n",
    "        # Plot 1D posteriors (diagonal)\n",
    "        for i, par in enumerate(grid_params):\n",
    "            plt.sca(ax[i][i])\n",
    "            ligo_val = ligo_parameters[event][par][app]\n",
    "            ligo_err = [[ligo_parameters[event][par][app + '_errm']],\n",
    "                        [ligo_parameters[event][par][app + '_errp']]]\n",
    "            plt.errorbar(ligo_val,\n",
    "                             np.interp(bounds_estimate[event][(*PCA), par][0],\n",
    "                                       grid_1d[event][par],\n",
    "                                       grid_1d[event]['posterior', (*PCA), par]),\n",
    "                             xerr=ligo_err, ls='None', fmt='.', color='k', ecolor='k', zorder=10)\n",
    "            plt.title('{}$=${}{}'.format(latex[par], \n",
    "                                         latex_val_err(median[event][(*PCA), par], \n",
    "                                                       err_estimate[event][(*PCA), par]),\n",
    "                                         unit[par].replace('(', '').replace(')','')))\n",
    "        \n",
    "        for prior in priors:\n",
    "            PCA = [prior.name, (*CA)]\n",
    "            # Plot 2D posteriors (off-diagonal in the plot grid)\n",
    "            for row, y_par in list(enumerate(grid_params))[1:]:\n",
    "                for col, x_par in list(enumerate(grid_params))[:row]:\n",
    "                    plt.sca(ax[row][col])\n",
    "                    xy_posterior = grid_2d[event][x_par, y_par]['posterior', (*PCA)].T\n",
    "                    contours = plt.contour(grid_1d[event][x_par], grid_1d[event][y_par], xy_posterior,\n",
    "                                           levels=levels[event][(*PCA), (x_par, y_par)],\n",
    "                                           colors=kwargs[prior.name, 'posterior']['c'],\n",
    "                                           linestyles=kwargs[prior.name, 'posterior']['ls'])\n",
    "\n",
    "            # Plot 1D posteriors (diagonal)\n",
    "            for i, par in enumerate(grid_params):\n",
    "                plt.sca(ax[i][i])\n",
    "                for val in [median[event][(*PCA), par], *bounds_estimate[event][(*PCA), par]]:\n",
    "                    plt.plot([val]*2, [0, np.interp(val, grid_1d[event][par], \n",
    "                                                    grid_1d[event]['posterior', (*PCA), par])],\n",
    "                             **{k: kwargs[prior.name, 'posterior'][k] for k in ['c', 'ls']})\n",
    "                plt.plot(grid_1d[event][par],\n",
    "                         grid_1d[event]['posterior', (*PCA), par], **kwargs[prior.name, 'posterior'])\n",
    "                plt.plot(grid_1d[event][par], grid_1d[event][prior.name, par], **kwargs[prior.name, 'prior'])\n",
    "        # Embellish\n",
    "        handles_1d, labels_1d = ax[0][0].get_legend_handles_labels()\n",
    "        handles_2d, labels_2d = ax[ii][jj].get_legend_handles_labels()\n",
    "        fig.legend(handles_1d + handles_2d, labels_1d + labels_2d, \n",
    "                   loc='upper left', bbox_to_anchor=(.4, .91), frameon=False)\n",
    "        for col, x_par in enumerate(grid_params):\n",
    "            ax[n_rows-1][col].set_xlabel(latex[x_par] + unit[x_par], size='large')\n",
    "            plt.setp(ax[n_rows-1][col].get_xticklabels(), rotation=45)\n",
    "            for row in range(n_rows-1):\n",
    "                ax[row][col].tick_params(labelbottom='off')\n",
    "        for row, y_par in list(enumerate(grid_params))[1:]:\n",
    "            ax[row][0].set_ylabel(latex[y_par] + unit[y_par], size='large')\n",
    "            plt.setp(ax[row][0].get_yticklabels(), rotation=45)\n",
    "            for col in range(1, n_cols):\n",
    "                ax[row][col].tick_params(labelleft='off')\n",
    "        \n",
    "        for row in range(n_rows-1):\n",
    "            for col in range(row+1, n_cols):\n",
    "                ax[row][col].axis('off')\n",
    "        for col in range(n_cols):\n",
    "            for row in range(1, n_rows):\n",
    "                ax[0][col].get_shared_x_axes().join(ax[0][col], ax[row][col])\n",
    "                ax[row][col].autoscale()\n",
    "        for row in range(1, n_rows):\n",
    "            for col in range(1, row):\n",
    "                ax[row][0].get_shared_y_axes().join(ax[row][0], ax[row][col])\n",
    "                ax[row][col].autoscale()\n",
    "        for i in range(len(grid_params)):\n",
    "            ax[i][i].tick_params(axis='y', left='off', labelleft='off')\n",
    "            ax[i][i].set_ylim(ymin=0)\n",
    "        ax[-1][-1].set_xlim(grid_1d[event][grid_params[-1]].min(), grid_1d[event][grid_params[-1]].max())\n",
    "        plt.tight_layout(rect=[0, 0, 1, 0.96]);\n",
    "        plt.subplots_adjust(hspace=0.04, wspace=0.04);\n",
    "\n",
    "        plt.savefig('{0}/figures/{0}_changing_priors_{1}.pdf'.format(event, '_'.join(CA)), bbox_inches='tight')\n",
    "        plt.show()"
   ]
  },
  {
   "cell_type": "markdown",
   "metadata": {},
   "source": [
    "### Multi-event plots\n",
    "#### Single prior"
   ]
  },
  {
   "cell_type": "raw",
   "metadata": {
    "collapsed": true
   },
   "source": [
    "assert False, 'You shall not pass!'"
   ]
  },
  {
   "cell_type": "raw",
   "metadata": {
    "scrolled": true
   },
   "source": [
    "color_list = plt.rcParams['axes.prop_cycle'].by_key()['color']\n",
    "index_list = [0,1,2,3,5,4]  # Swap last two so it is colorblind-friendly\n",
    "colors = {event: color_list[index_list[i]] for i, event in enumerate(events)}\n",
    "zorder={'GW150914': 5, \n",
    "        'GW151226': 1, \n",
    "        'LVT151012': 3, \n",
    "        'GW170104': 2, \n",
    "        'GW170608': 6,\n",
    "        'GW170814': 4}\n",
    "\n",
    "n_rows = len(grid_2d_params)\n",
    "\n",
    "plt.clf()\n",
    "for prior in priors:\n",
    "    print(prior.text)\n",
    "    for CA in coherences_approximants:\n",
    "        #fig, ax = plt.subplots(n_rows, 1, figsize=(4.7, 3.3*n_rows))\n",
    "\n",
    "        assert grid_params == ['M_chirp', 'q', 'chi_eff']  # Or change the following by the commented above\n",
    "        fig = plt.figure(figsize=(4.5, 2.7*n_rows));\n",
    "        gs_top = gridspec.GridSpec(n_rows, 1, height_ratios=[.9,1, 1.4], hspace=.05, top=.935)\n",
    "        gs_bottom = gridspec.GridSpec(n_rows, 1, height_ratios=[.9,1, 1.4])\n",
    "        ax1 = fig.add_subplot(gs_top[0, 0])\n",
    "        ax2 = fig.add_subplot(gs_top[1, 0])\n",
    "        ax3 = fig.add_subplot(gs_bottom[2, 0])\n",
    "        #ax = np.array([plt.subplot(gs[i]) for i in range(len(grid_params))])\n",
    "        ax = np.array([ax1, ax2, ax3])\n",
    "\n",
    "\n",
    "        for row, xy_pars in enumerate(grid_2d_params):\n",
    "            x_par, y_par = xy_pars if xy_pars != ('q', 'chi_eff') else ('chi_eff', 'q')\n",
    "            plt.sca(ax[row])\n",
    "            for event in events:\n",
    "                plt.contourf(grid_2d[event][xy_pars][x_par], \n",
    "                             grid_2d[event][xy_pars][y_par], \n",
    "                             grid_2d[event][xy_pars]['posterior', prior.name, (*CA)],\n",
    "                             levels=levels[event][prior.name, (*CA), xy_pars],\n",
    "                             colors=[colors[event]],\n",
    "                             alpha=.25,\n",
    "                             zorder=zorder[event]\n",
    "                            )\n",
    "                plt.contourf(grid_2d[event][xy_pars][x_par], \n",
    "                             grid_2d[event][xy_pars][y_par], \n",
    "                             grid_2d[event][xy_pars]['posterior', prior.name, (*CA)],\n",
    "                             levels=[levels[event][prior.name, (*CA), xy_pars][1], np.inf],\n",
    "                             colors=[colors[event]],\n",
    "                             alpha=.8,\n",
    "                             zorder=zorder[event]\n",
    "                            )\n",
    "                contours = plt.contour(grid_2d[event][xy_pars][x_par], \n",
    "                                       grid_2d[event][xy_pars][y_par], \n",
    "                                       grid_2d[event][xy_pars]['posterior', prior.name, (*CA)],\n",
    "                                       levels=levels[event][prior.name, (*CA), xy_pars],\n",
    "                                       colors=[colors[event]],\n",
    "                                       linewidths=[1.5, 1],\n",
    "                                       zorder=zorder[event],\n",
    "                                       )\n",
    "                contours.collections[0].set_label(event)\n",
    "                plt.contour(grid_2d[event][xy_pars][x_par], \n",
    "                            grid_2d[event][xy_pars][y_par], \n",
    "                            grid_2d[event][xy_pars]['posterior', prior.name, (*CA)],\n",
    "                            levels=levels[event][prior.name, (*CA), xy_pars],\n",
    "                            colors=[colors[event]],\n",
    "                            linewidths=[1.5, 1],\n",
    "                            zorder=10+zorder[event],\n",
    "                            alpha=.5,\n",
    "                           )\n",
    "            if [x_par, y_par] == ['q', 'chi_eff']:\n",
    "                x_par, y_par = y_par, x_par\n",
    "            if x_par == 'q':\n",
    "                plt.xlim(0, 1)\n",
    "            if y_par == 'q':\n",
    "                plt.ylim(0, 1)\n",
    "            if x_par == 'chi_eff':\n",
    "                plt.axvline(0, c='grey', lw=.75, zorder=-1)\n",
    "                plt.xlim(-.71, .71)\n",
    "            if y_par == 'chi_eff':\n",
    "                plt.axhline(0, c='grey', lw=.75, zorder=-1)\n",
    "                plt.ylim(-.71, .71)\n",
    "            if x_par == 'M_chirp':\n",
    "                plt.xlim(7, 35.5)\n",
    "            plt.grid(ls=':')\n",
    "            if set([x_par, y_par]) == set(['q', 'chi_eff']):\n",
    "                qs = np.linspace(0, 1)\n",
    "                l = plt.plot(chi_eff_locked(qs), qs,  'k-.', zorder=-1)\n",
    "                plt.legend(l, (r'$\\chi_1 = 0, \\chi_2 = 1$',), loc='lower left')\n",
    "            if row != 0:\n",
    "                plt.xlabel(latex[x_par] + unit[x_par])\n",
    "            plt.ylabel(latex[y_par] + unit[y_par])\n",
    "        handles, labels = ax[0].get_legend_handles_labels()\n",
    "        fig.legend(handles, labels, \n",
    "                   loc='upper center', ncol=3, fontsize=9.5, frameon=False)\n",
    "        ax[0].tick_params(labelbottom='off')\n",
    "        #plt.tight_layout(h_pad=-0.04)\n",
    "        plt.savefig('figures/{}_{}.pdf'.format(prior.name, '_'.join(CA)), bbox_inches='tight')\n",
    "        plt.show()"
   ]
  },
  {
   "cell_type": "markdown",
   "metadata": {},
   "source": [
    "Lines of constant $\\chi_{PN}$"
   ]
  },
  {
   "cell_type": "raw",
   "metadata": {
    "collapsed": true
   },
   "source": [
    "def eta_of_q(q):\n",
    "    return q / (1+q)**2\n",
    "def chiPN_of_q_chieff(q, chi_eff):\n",
    "    return chi_eff * (1 - 76/113 * eta_of_q(q))\n",
    "def chieff_of_q_chiPN(q, chi_PN):\n",
    "    return chi_PN / (1-76/113 * eta_of_q(q))"
   ]
  },
  {
   "cell_type": "raw",
   "metadata": {
    "scrolled": false
   },
   "source": [
    "color_list = plt.rcParams['axes.prop_cycle'].by_key()['color']\n",
    "index_list = [0,1,2,3,5,4]  # Swap last two so it is colorblind-friendly\n",
    "colors = {event: color_list[index_list[i]] for i, event in enumerate(events)}\n",
    "zorder={'GW150914': 5, \n",
    "        'GW151226': 1, \n",
    "        'LVT151012': 3, \n",
    "        'GW170104': 2, \n",
    "        'GW170608': 6,\n",
    "        'GW170814': 4}\n",
    "\n",
    "n_rows = len(grid_2d_params)\n",
    "\n",
    "chi_PNs = np.linspace(-1, 1, 20)\n",
    "qs = np.linspace(0,1)\n",
    "\n",
    "plt.clf()\n",
    "for prior in priors:\n",
    "    print(prior.text)\n",
    "    for CA in coherences_approximants:\n",
    "        #fig, ax = plt.subplots(n_rows, 1, figsize=(4.7, 3.3*n_rows))\n",
    "\n",
    "        assert grid_params == ['M_chirp', 'q', 'chi_eff']  # Or change the following by the commented above\n",
    "        fig = plt.figure(figsize=(4.5, 2.7*n_rows));\n",
    "        gs_top = gridspec.GridSpec(n_rows, 1, height_ratios=[.9,1, 1.4], hspace=.05, top=.935)\n",
    "        gs_bottom = gridspec.GridSpec(n_rows, 1, height_ratios=[.9,1, 1.4])\n",
    "        ax1 = fig.add_subplot(gs_top[0, 0])\n",
    "        ax2 = fig.add_subplot(gs_top[1, 0])\n",
    "        ax3 = fig.add_subplot(gs_bottom[2, 0])\n",
    "        #ax = np.array([plt.subplot(gs[i]) for i in range(len(grid_params))])\n",
    "        ax = np.array([ax1, ax2, ax3])\n",
    "\n",
    "\n",
    "        for row, xy_pars in enumerate(grid_2d_params):\n",
    "            x_par, y_par = xy_pars if xy_pars != ('q', 'chi_eff') else ('chi_eff', 'q')\n",
    "            plt.sca(ax[row])\n",
    "            for event in ['GW151226']:#events:\n",
    "                plt.contourf(grid_2d[event][xy_pars][x_par], \n",
    "                             grid_2d[event][xy_pars][y_par], \n",
    "                             grid_2d[event][xy_pars]['posterior', prior.name, (*CA)],\n",
    "                             levels=levels[event][prior.name, (*CA), xy_pars],\n",
    "                             colors=[colors[event]],\n",
    "                             alpha=.25,\n",
    "                             zorder=zorder[event]\n",
    "                            )\n",
    "                plt.contourf(grid_2d[event][xy_pars][x_par], \n",
    "                             grid_2d[event][xy_pars][y_par], \n",
    "                             grid_2d[event][xy_pars]['posterior', prior.name, (*CA)],\n",
    "                             levels=[levels[event][prior.name, (*CA), xy_pars][1], np.inf],\n",
    "                             colors=[colors[event]],\n",
    "                             alpha=.8,\n",
    "                             zorder=zorder[event]\n",
    "                            )\n",
    "                contours = plt.contour(grid_2d[event][xy_pars][x_par], \n",
    "                                       grid_2d[event][xy_pars][y_par], \n",
    "                                       grid_2d[event][xy_pars]['posterior', prior.name, (*CA)],\n",
    "                                       levels=levels[event][prior.name, (*CA), xy_pars],\n",
    "                                       colors=[colors[event]],\n",
    "                                       linewidths=[1.5, 1],\n",
    "                                       zorder=zorder[event],\n",
    "                                       )\n",
    "                contours.collections[0].set_label(event)\n",
    "                plt.contour(grid_2d[event][xy_pars][x_par], \n",
    "                            grid_2d[event][xy_pars][y_par], \n",
    "                            grid_2d[event][xy_pars]['posterior', prior.name, (*CA)],\n",
    "                            levels=levels[event][prior.name, (*CA), xy_pars],\n",
    "                            colors=[colors[event]],\n",
    "                            linewidths=[1.5, 1],\n",
    "                            zorder=10+zorder[event],\n",
    "                            alpha=.5,\n",
    "                           )\n",
    "            if [x_par, y_par] == ['chi_eff', 'q']:\n",
    "                for chi_PN in chi_PNs:\n",
    "                    #plt.plot(chieff_of_q_chiPN(qs, chi_PN), qs, 'lightgrey', zorder=-10)\n",
    "                    plt.plot(0.15-3*(eta_of_q(qs)-.25), qs, zorder=-10)\n",
    "            if x_par == 'q':\n",
    "                plt.xlim(0, 1)\n",
    "            if y_par == 'q':\n",
    "                plt.ylim(0, 1)\n",
    "            if x_par == 'chi_eff':\n",
    "                plt.axvline(0, c='grey', lw=.75, zorder=-1)\n",
    "                plt.xlim(-.71, .71)\n",
    "            if y_par == 'chi_eff':\n",
    "                plt.axhline(0, c='grey', lw=.75, zorder=-1)\n",
    "                plt.ylim(-.71, .71)\n",
    "            if x_par == 'M_chirp':\n",
    "                plt.xlim(7, 35.5)\n",
    "            plt.grid(ls=':')\n",
    "            if set([x_par, y_par]) == set(['q', 'chi_eff']):\n",
    "                qs = np.linspace(0, 1)\n",
    "                l = plt.plot(chi_eff_locked(qs), qs,  'k-.', zorder=-1)\n",
    "                plt.legend(l, (r'$\\chi_1 = 0, \\chi_2 = 1$',), loc='lower left')\n",
    "            if row != 0:\n",
    "                plt.xlabel(latex[x_par] + unit[x_par])\n",
    "            plt.ylabel(latex[y_par] + unit[y_par])\n",
    "        handles, labels = ax[0].get_legend_handles_labels()\n",
    "        fig.legend(handles, labels, \n",
    "                   loc='upper center', ncol=3, fontsize=9.5, frameon=False)\n",
    "        ax[0].tick_params(labelbottom='off')\n",
    "        #plt.tight_layout(h_pad=-0.04)\n",
    "        plt.savefig('figures/{}_{}.pdf'.format(prior.name, '_'.join(CA)), bbox_inches='tight')\n",
    "        plt.show()"
   ]
  },
  {
   "cell_type": "markdown",
   "metadata": {},
   "source": [
    "#### Changing the prior"
   ]
  },
  {
   "cell_type": "raw",
   "metadata": {
    "collapsed": true,
    "scrolled": false
   },
   "source": [
    "color_list = plt.rcParams['axes.prop_cycle'].by_key()['color']\n",
    "index_list = [0,1,2,3,5,4]  # Swap last two so it is colorblind-friendly\n",
    "colors = {event: color_list[index_list[i]] for i, event in enumerate(events)}\n",
    "\n",
    "ls_list = ['-', '--', ':', '-.']\n",
    "ls = {prior.name: ls_list[i % len(ls_list)] for i, prior in enumerate(priors)}\n",
    "\n",
    "n_rows = len(grid_2d_params)\n",
    "\n",
    "plt.clf()\n",
    "for CA in coherences_approximants:\n",
    "    fig, ax = plt.subplots(n_rows, 1, figsize=(4.7, 3.3*n_rows))\n",
    "    for row, (x_par, y_par) in enumerate(grid_2d_params):\n",
    "        plt.sca(ax[row])\n",
    "        for prior in priors:\n",
    "            for event in events:\n",
    "                xy_posterior = grid_2d[event][x_par, y_par]['posterior', prior.name, (*CA)].T\n",
    "                contours = plt.contour(grid_1d[event][x_par], grid_1d[event][y_par], xy_posterior,\n",
    "                                       levels=levels[event][prior.name, (*CA), (x_par, y_par)][:1],\n",
    "                                       colors=colors[event], linestyles=ls[prior.name])\n",
    "                if prior == priors[0]:\n",
    "                    contours.collections[0].set_label(event)\n",
    "        \n",
    "        if x_par == 'q':\n",
    "            plt.xlim(0, 1)\n",
    "        if y_par == 'q':\n",
    "            plt.ylim(0, 1)\n",
    "        if x_par == 'chi_eff':\n",
    "            plt.axvline(0, c='grey', lw=.75, zorder=-1)\n",
    "        if y_par == 'chi_eff':\n",
    "            plt.axhline(0, c='grey', lw=.75, zorder=-1)\n",
    "        if x_par == 'M_chirp':\n",
    "            plt.xlim(7, 35.5)\n",
    "            \n",
    "        if set([x_par, y_par]) == set(['q', 'chi_eff']):\n",
    "            qs = np.linspace(0, 1)\n",
    "            l = plt.plot(qs, chi_eff_locked(qs), 'k-.')\n",
    "            plt.legend(l, (r'$\\chi_1 = 0, \\chi_2 = 1$',), loc='upper right')\n",
    "        plt.xlabel(latex[x_par] + unit[x_par])\n",
    "        plt.ylabel(latex[y_par] + unit[y_par])\n",
    "    handles, labels = ax[0].get_legend_handles_labels()\n",
    "    fig.legend(handles, labels, \n",
    "               loc='upper center', ncol=3, bbox_to_anchor=(.5, 1.04))\n",
    "    plt.tight_layout()\n",
    "    #plt.savefig('figures/change_prior_{}.pdf'.format(approximant), bbox_inches='tight', dpi=300)\n",
    "    plt.show()"
   ]
  },
  {
   "cell_type": "markdown",
   "metadata": {},
   "source": [
    "#### Just $\\mathcal M, \\chi_{\\rm eff}$"
   ]
  },
  {
   "cell_type": "raw",
   "metadata": {},
   "source": [
    "\n",
    "color_list = plt.rcParams['axes.prop_cycle'].by_key()['color']\n",
    "index_list = [0,1,2,3,5,4]  # Swap last two so it is colorblind-friendly\n",
    "colors = {event: color_list[index_list[i]] for i, event in enumerate(events)}\n",
    "\n",
    "CA = ['coherent', 'SEOBNRv4_ROM']\n",
    "prior = uniform_in_Mchirp_q_chieff\n",
    "x_par = 'M_chirp'\n",
    "y_par = 'chi_eff'\n",
    "\n",
    "plt.clf()\n",
    "plt.figure(figsize=(4.5,3.5))\n",
    "for event in events:\n",
    "    xy_posterior = grid_2d[event][x_par, y_par]['posterior', prior.name, (*CA)].T\n",
    "    contours = plt.contour(grid_1d[event][x_par], grid_1d[event][y_par], xy_posterior,\n",
    "                           levels=levels[event][prior.name, (*CA), (x_par, y_par)],\n",
    "                           colors=colors[event])\n",
    "    contours.collections[0].set_label(event)\n",
    "\n",
    "if y_par == 'chi_eff':\n",
    "    plt.axhline(0, c='grey', lw=.75, zorder=-1)\n",
    "    plt.ylim(-.71, .71)\n",
    "if x_par == 'M_chirp':\n",
    "    plt.xlim(7, 35.5)\n",
    "\n",
    "plt.xlabel(latex[x_par] + unit[x_par])\n",
    "plt.ylabel(latex[y_par] + unit[y_par])\n",
    "handles, labels = plt.gca().get_legend_handles_labels()\n",
    "plt.legend(ncol=2)\n",
    "plt.savefig('figures/{}_Mchirp_chieff_{}.pdf'.format(prior.name, '_'.join(CA)), bbox_inches='tight')\n",
    "plt.show()"
   ]
  },
  {
   "cell_type": "markdown",
   "metadata": {},
   "source": [
    "#### Just $\\eta, \\chi_{\\rm eff}$"
   ]
  },
  {
   "cell_type": "code",
   "execution_count": 165,
   "metadata": {
    "scrolled": true
   },
   "outputs": [
    {
     "data": {
      "text/plain": [
       "<matplotlib.figure.Figure at 0x7f4f3b3b8d30>"
      ]
     },
     "metadata": {},
     "output_type": "display_data"
    },
    {
     "data": {
      "image/png": "[encoded data removed]",
      "text/plain": [
       "<matplotlib.figure.Figure at 0x7f4f3b3b8710>"
      ]
     },
     "metadata": {
      "image/png": {
       "height": 238,
       "width": 311
      }
     },
     "output_type": "display_data"
    }
   ],
   "source": [
    "color_list = plt.rcParams['axes.prop_cycle'].by_key()['color']\n",
    "index_list = [0,1,2,3,5,4]  # Swap last two so it is colorblind-friendly\n",
    "colors = {event: color_list[index_list[i]] for i, event in enumerate(events)}\n",
    "\n",
    "CA = ['coherent', 'SEOBNRv4_ROM']\n",
    "prior = uniform_in_Mchirp_q_chieff\n",
    "x_par = 'chi_r'\n",
    "y_par = 'eta'\n",
    "\n",
    "plt.clf()\n",
    "plt.figure(figsize=(4.5,3.5))\n",
    "for event in events:\n",
    "    contours = plt.contour(grid_2d[event][y_par, x_par][x_par], \n",
    "                           grid_2d[event][y_par, x_par][y_par], \n",
    "                           grid_2d[event][y_par, x_par]['posterior', prior.name, (*CA)],\n",
    "                           levels=levels[event][prior.name, (*CA), (y_par, x_par)],\n",
    "                           colors=colors[event])\n",
    "    contours.collections[0].set_label(event)\n",
    "\n",
    "plt.xlim(0.15, 0.46)\n",
    "plt.xlabel(latex[x_par] + unit[x_par])\n",
    "plt.ylabel(latex[y_par] + unit[y_par])\n",
    "handles, labels = plt.gca().get_legend_handles_labels()\n",
    "plt.legend(loc = 'lower left')\n",
    "plt.grid(ls=':')\n",
    "#plt.savefig('figures/{}_Mchirp_chieff_{}.pdf'.format(prior.name, '_'.join(CA)), bbox_inches='tight')\n",
    "plt.show()"
   ]
  }
 ],
 "metadata": {
  "kernelspec": {
   "display_name": "Python 3",
   "language": "python",
   "name": "python3"
  },
  "language_info": {
   "codemirror_mode": {
    "name": "ipython",
    "version": 3
   },
   "file_extension": ".py",
   "mimetype": "text/x-python",
   "name": "python",
   "nbconvert_exporter": "python",
   "pygments_lexer": "ipython3",
   "version": "3.6.1"
  }
 },
 "nbformat": 4,
 "nbformat_minor": 2
}
